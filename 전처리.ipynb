{
 "cells": [
  {
   "cell_type": "code",
   "execution_count": 6,
   "metadata": {},
   "outputs": [
    {
     "name": "stdout",
     "output_type": "stream",
     "text": [
      "중복 레코드가 제거된 CSV 파일이 'a:\\바탕화면\\김우경 교수님 크롤링 작업\\moma_artists_final.csv'에 저장되었습니다.\n"
     ]
    }
   ],
   "source": [
    "import pandas as pd\n",
    "import os\n",
    "\n",
    "# 현재 작업 디렉토리를 가져옵니다 (Jupyter Notebook 환경에서)\n",
    "current_dir = os.getcwd()\n",
    "\n",
    "# CSV 파일을 읽어옵니다\n",
    "file_path = 'moma_artists_links.csv'  \n",
    "df = pd.read_csv(file_path)\n",
    "\n",
    "# 중복 레코드 삭제\n",
    "df_unique = df.drop_duplicates()\n",
    "\n",
    "# 결과를 새로운 CSV 파일로 저장합니다\n",
    "output_file_name = 'moma_artists_final.csv'  # 저장할 파일 이름을 지정해주세요\n",
    "output_file_path = os.path.join(current_dir, output_file_name)\n",
    "df_unique.to_csv(output_file_path, index=False)\n",
    "\n",
    "\n",
    "print(f\"중복 레코드가 제거된 CSV 파일이 '{output_file_path}'에 저장되었습니다.\")\n"
   ]
  },
  {
   "cell_type": "code",
   "execution_count": 10,
   "metadata": {},
   "outputs": [
    {
     "data": {
      "text/html": [
       "<div>\n",
       "<style scoped>\n",
       "    .dataframe tbody tr th:only-of-type {\n",
       "        vertical-align: middle;\n",
       "    }\n",
       "\n",
       "    .dataframe tbody tr th {\n",
       "        vertical-align: top;\n",
       "    }\n",
       "\n",
       "    .dataframe thead th {\n",
       "        text-align: right;\n",
       "    }\n",
       "</style>\n",
       "<table border=\"1\" class=\"dataframe\">\n",
       "  <thead>\n",
       "    <tr style=\"text-align: right;\">\n",
       "      <th></th>\n",
       "      <th>artist_link</th>\n",
       "    </tr>\n",
       "  </thead>\n",
       "  <tbody>\n",
       "    <tr>\n",
       "      <th>0</th>\n",
       "      <td>https://artfacts.net/artist/elinor-bellingham-...</td>\n",
       "    </tr>\n",
       "    <tr>\n",
       "      <th>1</th>\n",
       "      <td>https://artfacts.net/artist/frank-brangwyn/30490</td>\n",
       "    </tr>\n",
       "    <tr>\n",
       "      <th>2</th>\n",
       "      <td>https://artfacts.net/artist/stephen-conroy/1625</td>\n",
       "    </tr>\n",
       "    <tr>\n",
       "      <th>3</th>\n",
       "      <td>https://artfacts.net/artist/hans-feibusch/30758</td>\n",
       "    </tr>\n",
       "    <tr>\n",
       "      <th>4</th>\n",
       "      <td>https://artfacts.net/artist/james-flewitt-mull...</td>\n",
       "    </tr>\n",
       "  </tbody>\n",
       "</table>\n",
       "</div>"
      ],
      "text/plain": [
       "                                         artist_link\n",
       "0  https://artfacts.net/artist/elinor-bellingham-...\n",
       "1   https://artfacts.net/artist/frank-brangwyn/30490\n",
       "2    https://artfacts.net/artist/stephen-conroy/1625\n",
       "3    https://artfacts.net/artist/hans-feibusch/30758\n",
       "4  https://artfacts.net/artist/james-flewitt-mull..."
      ]
     },
     "execution_count": 10,
     "metadata": {},
     "output_type": "execute_result"
    }
   ],
   "source": [
    "df1 = pd.read_csv(file_path)\n",
    "df1.head()"
   ]
  },
  {
   "cell_type": "code",
   "execution_count": 8,
   "metadata": {},
   "outputs": [
    {
     "data": {
      "text/html": [
       "<div>\n",
       "<style scoped>\n",
       "    .dataframe tbody tr th:only-of-type {\n",
       "        vertical-align: middle;\n",
       "    }\n",
       "\n",
       "    .dataframe tbody tr th {\n",
       "        vertical-align: top;\n",
       "    }\n",
       "\n",
       "    .dataframe thead th {\n",
       "        text-align: right;\n",
       "    }\n",
       "</style>\n",
       "<table border=\"1\" class=\"dataframe\">\n",
       "  <thead>\n",
       "    <tr style=\"text-align: right;\">\n",
       "      <th></th>\n",
       "      <th>artist_link</th>\n",
       "    </tr>\n",
       "  </thead>\n",
       "  <tbody>\n",
       "    <tr>\n",
       "      <th>0</th>\n",
       "      <td>https://artfacts.net/artist/elinor-bellingham-...</td>\n",
       "    </tr>\n",
       "    <tr>\n",
       "      <th>1</th>\n",
       "      <td>https://artfacts.net/artist/frank-brangwyn/30490</td>\n",
       "    </tr>\n",
       "    <tr>\n",
       "      <th>2</th>\n",
       "      <td>https://artfacts.net/artist/stephen-conroy/1625</td>\n",
       "    </tr>\n",
       "    <tr>\n",
       "      <th>3</th>\n",
       "      <td>https://artfacts.net/artist/hans-feibusch/30758</td>\n",
       "    </tr>\n",
       "    <tr>\n",
       "      <th>4</th>\n",
       "      <td>https://artfacts.net/artist/james-flewitt-mull...</td>\n",
       "    </tr>\n",
       "  </tbody>\n",
       "</table>\n",
       "</div>"
      ],
      "text/plain": [
       "                                         artist_link\n",
       "0  https://artfacts.net/artist/elinor-bellingham-...\n",
       "1   https://artfacts.net/artist/frank-brangwyn/30490\n",
       "2    https://artfacts.net/artist/stephen-conroy/1625\n",
       "3    https://artfacts.net/artist/hans-feibusch/30758\n",
       "4  https://artfacts.net/artist/james-flewitt-mull..."
      ]
     },
     "execution_count": 8,
     "metadata": {},
     "output_type": "execute_result"
    }
   ],
   "source": [
    "df2=pd.read_csv('moma_artists_final.csv')\n",
    "df2.head()"
   ]
  },
  {
   "cell_type": "code",
   "execution_count": 11,
   "metadata": {},
   "outputs": [
    {
     "data": {
      "text/plain": [
       "(47717, 1)"
      ]
     },
     "execution_count": 11,
     "metadata": {},
     "output_type": "execute_result"
    }
   ],
   "source": [
    "df1.shape"
   ]
  },
  {
   "cell_type": "code",
   "execution_count": 12,
   "metadata": {},
   "outputs": [
    {
     "data": {
      "text/plain": [
       "(28489, 1)"
      ]
     },
     "execution_count": 12,
     "metadata": {},
     "output_type": "execute_result"
    }
   ],
   "source": [
    "df2.shape"
   ]
  },
  {
   "cell_type": "code",
   "execution_count": 15,
   "metadata": {},
   "outputs": [
    {
     "name": "stdout",
     "output_type": "stream",
     "text": [
      "파일 'a:\\바탕화면\\김우경 교수님 크롤링 작업\\artists_split1.csv'이(가) 저장되었습니다.\n",
      "파일 'a:\\바탕화면\\김우경 교수님 크롤링 작업\\artists_split2.csv'이(가) 저장되었습니다.\n",
      "파일 'a:\\바탕화면\\김우경 교수님 크롤링 작업\\artists_split3.csv'이(가) 저장되었습니다.\n",
      "파일 'a:\\바탕화면\\김우경 교수님 크롤링 작업\\artists_split4.csv'이(가) 저장되었습니다.\n",
      "파일 'a:\\바탕화면\\김우경 교수님 크롤링 작업\\artists_split5.csv'이(가) 저장되었습니다.\n",
      "파일 'a:\\바탕화면\\김우경 교수님 크롤링 작업\\artists_split6.csv'이(가) 저장되었습니다.\n"
     ]
    }
   ],
   "source": [
    "import pandas as pd\n",
    "import os\n",
    "\n",
    "# CSV 파일을 읽어옵니다\n",
    "file_path = 'moma_artists_final.csv' \n",
    "df = pd.read_csv(file_path)\n",
    "\n",
    "# 원하는 레코드 수를 설정합니다\n",
    "records_per_file = 5000  # 파일 하나에 포함될 레코드 수\n",
    "\n",
    "# 전체 레코드 수를 확인합니다\n",
    "total_records = len(df)\n",
    "\n",
    "# 현재 작업 디렉토리를 가져옵니다\n",
    "current_dir = os.getcwd()\n",
    "\n",
    "# 데이터프레임을 나눕니다\n",
    "for i in range(0, total_records, records_per_file):\n",
    "    split_df = df.iloc[i:i + records_per_file]\n",
    "    output_file_name = f'artists_split{i//records_per_file + 1}.csv'\n",
    "    output_file_path = os.path.join(current_dir, output_file_name)\n",
    "    split_df.to_csv(output_file_path, index=False)\n",
    "    print(f\"파일 '{output_file_path}'이(가) 저장되었습니다.\")"
   ]
  },
  {
   "cell_type": "code",
   "execution_count": null,
   "metadata": {},
   "outputs": [],
   "source": []
  }
 ],
 "metadata": {
  "kernelspec": {
   "display_name": "hyojung_2015479",
   "language": "python",
   "name": "python3"
  },
  "language_info": {
   "codemirror_mode": {
    "name": "ipython",
    "version": 3
   },
   "file_extension": ".py",
   "mimetype": "text/x-python",
   "name": "python",
   "nbconvert_exporter": "python",
   "pygments_lexer": "ipython3",
   "version": "3.12.2"
  }
 },
 "nbformat": 4,
 "nbformat_minor": 2
}
